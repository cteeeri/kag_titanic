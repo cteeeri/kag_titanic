{
 "cells": [
  {
   "cell_type": "code",
   "execution_count": 1,
   "metadata": {
    "_cell_guid": "73a4441c-0a7a-45fd-978b-5688816407f0",
    "_uuid": "d7d0faf71e94802bd283445b36ae0da18f321455"
   },
   "outputs": [
    {
     "name": "stdout",
     "output_type": "stream",
     "text": [
      "csv files:\n",
      "gender_submission.csv\n",
      "test.csv\n",
      "train.csv\n",
      "\n"
     ]
    }
   ],
   "source": [
    "# This Python 3 environment comes with many helpful analytics libraries installed\n",
    "# It is defined by the kaggle/python docker image: https://github.com/kaggle/docker-python\n",
    "# For example, here's several helpful packages to load in \n",
    "\n",
    "import numpy as np # linear algebra\n",
    "import pandas as pd # data processing, CSV file I/O (e.g. pd.read_csv)\n",
    "\n",
    "# Input data files are available in the \"../input/\" directory.\n",
    "# For example, running this (by clicking run or pressing Shift+Enter) will list the files in the input directory\n",
    "\n",
    "from subprocess import check_output\n",
    "csv_location = 'input' # my local\n",
    "# csv_location = '../input' # my local\n",
    "print(\"csv files:\\n\" + check_output([\"ls\", csv_location]).decode(\"utf8\")) # in kaggle use ../input\n",
    "\n",
    "# Any results you write to the current directory are saved as output."
   ]
  },
  {
   "cell_type": "code",
   "execution_count": 2,
   "metadata": {
    "_cell_guid": "ad8bcee5-68bc-456b-9793-c44884947eb6",
    "_uuid": "ebe6243d31531f57096dabc2510332cc8e93cb65"
   },
   "outputs": [],
   "source": [
    "# Library imports\n",
    "import matplotlib.pyplot as plt\n",
    "import seaborn as sns\n",
    "\n",
    "from sklearn.model_selection import train_test_split\n",
    "from IPython.core.interactiveshell import InteractiveShell\n",
    "InteractiveShell.ast_node_interactivity = \"all\"\n",
    "\n",
    "from collections import Counter\n",
    "from sklearn.metrics import accuracy_score\n",
    "%matplotlib inline\n",
    "\n",
    "pd.set_option('display.max_columns', None ) # None will display ALL columns"
   ]
  },
  {
   "cell_type": "code",
   "execution_count": 3,
   "metadata": {
    "_cell_guid": "d9814946-8616-4d77-9664-a5b35f2597fd",
    "_uuid": "da0dd4f6c66050e581c03a91173b0e2036bd6e14"
   },
   "outputs": [
    {
     "name": "stdout",
     "output_type": "stream",
     "text": [
      "==Whole data set==\n",
      "<class 'pandas.core.frame.DataFrame'>\n",
      "RangeIndex: 891 entries, 0 to 890\n",
      "Data columns (total 12 columns):\n",
      "PassengerId    891 non-null int64\n",
      "Survived       891 non-null int64\n",
      "Pclass         891 non-null int64\n",
      "Name           891 non-null object\n",
      "Sex            891 non-null object\n",
      "Age            714 non-null float64\n",
      "SibSp          891 non-null int64\n",
      "Parch          891 non-null int64\n",
      "Ticket         891 non-null object\n",
      "Fare           891 non-null float64\n",
      "Cabin          204 non-null object\n",
      "Embarked       889 non-null object\n",
      "dtypes: float64(2), int64(5), object(5)\n",
      "memory usage: 83.6+ KB\n"
     ]
    }
   ],
   "source": [
    "# Reading in csv data\n",
    "raw_csv = csv_location + '/' + 'train.csv'\n",
    "raw_df = pd.read_csv(raw_csv)\n",
    "print(\"==Whole data set==\")\n",
    "raw_df.info()"
   ]
  },
  {
   "cell_type": "markdown",
   "metadata": {},
   "source": [
    "There are 891 rows in dataset. I will do a 80/20 split to form train set and test set."
   ]
  },
  {
   "cell_type": "code",
   "execution_count": 4,
   "metadata": {
    "_cell_guid": "017d7196-93b9-43d3-96f7-1e09c40942b3",
    "_uuid": "a4b517a3c3ba01adb027113aa1e0cfdd4b7db0fb"
   },
   "outputs": [
    {
     "name": "stdout",
     "output_type": "stream",
     "text": [
      "<class 'pandas.core.frame.DataFrame'>\n",
      "Int64Index: 712 entries, 279 to 734\n",
      "Data columns (total 11 columns):\n",
      "PassengerId    712 non-null int64\n",
      "Pclass         712 non-null int64\n",
      "Name           712 non-null object\n",
      "Sex            712 non-null object\n",
      "Age            563 non-null float64\n",
      "SibSp          712 non-null int64\n",
      "Parch          712 non-null int64\n",
      "Ticket         712 non-null object\n",
      "Fare           712 non-null float64\n",
      "Cabin          162 non-null object\n",
      "Embarked       710 non-null object\n",
      "dtypes: float64(2), int64(4), object(5)\n",
      "memory usage: 66.8+ KB\n"
     ]
    },
    {
     "data": {
      "text/html": [
       "<div>\n",
       "<style scoped>\n",
       "    .dataframe tbody tr th:only-of-type {\n",
       "        vertical-align: middle;\n",
       "    }\n",
       "\n",
       "    .dataframe tbody tr th {\n",
       "        vertical-align: top;\n",
       "    }\n",
       "\n",
       "    .dataframe thead th {\n",
       "        text-align: right;\n",
       "    }\n",
       "</style>\n",
       "<table border=\"1\" class=\"dataframe\">\n",
       "  <thead>\n",
       "    <tr style=\"text-align: right;\">\n",
       "      <th></th>\n",
       "      <th>PassengerId</th>\n",
       "      <th>Pclass</th>\n",
       "      <th>Name</th>\n",
       "      <th>Sex</th>\n",
       "      <th>Age</th>\n",
       "      <th>SibSp</th>\n",
       "      <th>Parch</th>\n",
       "      <th>Ticket</th>\n",
       "      <th>Fare</th>\n",
       "      <th>Cabin</th>\n",
       "      <th>Embarked</th>\n",
       "    </tr>\n",
       "  </thead>\n",
       "  <tbody>\n",
       "    <tr>\n",
       "      <th>279</th>\n",
       "      <td>280</td>\n",
       "      <td>3</td>\n",
       "      <td>Abbott, Mrs. Stanton (Rosa Hunt)</td>\n",
       "      <td>female</td>\n",
       "      <td>35.0</td>\n",
       "      <td>1</td>\n",
       "      <td>1</td>\n",
       "      <td>C.A. 2673</td>\n",
       "      <td>20.2500</td>\n",
       "      <td>NaN</td>\n",
       "      <td>S</td>\n",
       "    </tr>\n",
       "    <tr>\n",
       "      <th>418</th>\n",
       "      <td>419</td>\n",
       "      <td>2</td>\n",
       "      <td>Matthews, Mr. William John</td>\n",
       "      <td>male</td>\n",
       "      <td>30.0</td>\n",
       "      <td>0</td>\n",
       "      <td>0</td>\n",
       "      <td>28228</td>\n",
       "      <td>13.0000</td>\n",
       "      <td>NaN</td>\n",
       "      <td>S</td>\n",
       "    </tr>\n",
       "    <tr>\n",
       "      <th>362</th>\n",
       "      <td>363</td>\n",
       "      <td>3</td>\n",
       "      <td>Barbara, Mrs. (Catherine David)</td>\n",
       "      <td>female</td>\n",
       "      <td>45.0</td>\n",
       "      <td>0</td>\n",
       "      <td>1</td>\n",
       "      <td>2691</td>\n",
       "      <td>14.4542</td>\n",
       "      <td>NaN</td>\n",
       "      <td>C</td>\n",
       "    </tr>\n",
       "  </tbody>\n",
       "</table>\n",
       "</div>"
      ],
      "text/plain": [
       "     PassengerId  Pclass                              Name     Sex   Age  \\\n",
       "279          280       3  Abbott, Mrs. Stanton (Rosa Hunt)  female  35.0   \n",
       "418          419       2        Matthews, Mr. William John    male  30.0   \n",
       "362          363       3   Barbara, Mrs. (Catherine David)  female  45.0   \n",
       "\n",
       "     SibSp  Parch     Ticket     Fare Cabin Embarked  \n",
       "279      1      1  C.A. 2673  20.2500   NaN        S  \n",
       "418      0      0      28228  13.0000   NaN        S  \n",
       "362      0      1       2691  14.4542   NaN        C  "
      ]
     },
     "execution_count": 4,
     "metadata": {},
     "output_type": "execute_result"
    },
    {
     "data": {
      "text/plain": [
       "279    1\n",
       "418    0\n",
       "362    0\n",
       "Name: Survived, dtype: int64"
      ]
     },
     "execution_count": 4,
     "metadata": {},
     "output_type": "execute_result"
    }
   ],
   "source": [
    "# Train test split, 80/20\n",
    "X = raw_df.drop('Survived', axis=1) # Drop label off to form X (y will be dependable label)\n",
    "y = raw_df['Survived'] # Record only the label to form y (X is the independent training set)\n",
    "X_train, X_test, y_train, y_test = train_test_split(X, y, test_size=0.2, random_state=137)\n",
    "X_train.info()\n",
    "X_train.head(3)\n",
    "y_train.head(3)"
   ]
  },
  {
   "cell_type": "markdown",
   "metadata": {},
   "source": [
    "The above is training set of 712 rows, some data sample from training set and the label."
   ]
  },
  {
   "cell_type": "code",
   "execution_count": 5,
   "metadata": {
    "_cell_guid": "55c63131-a0b9-4c65-8606-1048cdd3f3f3",
    "_uuid": "7c00d8dabe9be6b2ec8f210f04a5002231654426"
   },
   "outputs": [
    {
     "data": {
      "text/plain": [
       "False"
      ]
     },
     "execution_count": 5,
     "metadata": {},
     "output_type": "execute_result"
    },
    {
     "data": {
      "text/plain": [
       "Counter({0: 443, 1: 269})"
      ]
     },
     "execution_count": 5,
     "metadata": {},
     "output_type": "execute_result"
    },
    {
     "data": {
      "text/plain": [
       "0.62"
      ]
     },
     "execution_count": 5,
     "metadata": {},
     "output_type": "execute_result"
    },
    {
     "name": "stdout",
     "output_type": "stream",
     "text": [
      "If I predict everyone perished, per my y_test set, my accuracy would be: 0.5922\n"
     ]
    }
   ],
   "source": [
    "# Will only investigate X_train set, not X_test\n",
    "# Investigte: y_train\n",
    "# Are there NaN? No.\n",
    "y_train.isnull().values.any()\n",
    "\n",
    "# In y_train, how many perished? survived?{0: 443, 1: 269}\n",
    "Counter(y_train.values)\n",
    "# Perished over all passengers in X_train\n",
    "round(np.count_nonzero(y_train==0)/len(y_train), 2)\n",
    "# predict is all 0s\n",
    "predict_0 = np.zeros(len(y_test)) # if everyone perished in my prediction\n",
    "print(\"If I predict everyone perished, per my y_test set, my accuracy would be: {:.4f}\"\n",
    "      .format(accuracy_score(y_test, predict_0)))"
   ]
  },
  {
   "cell_type": "markdown",
   "metadata": {
    "_cell_guid": "ed71a912-61ee-4038-8ad1-a3cbb7c2c1a6",
    "_uuid": "b762c1bf92f82f3cf5d16aca929779d7381c8427"
   },
   "source": [
    "There are no NaN in y_train. Also out of 712 passengers in X_train there are 443 perished, around 62%.<br>\n",
    "If I predict everyone perished, per my test set, my accuracy would be: 0.5922<br>\n",
    "This could be the benchmark for my model."
   ]
  },
  {
   "cell_type": "code",
   "execution_count": 6,
   "metadata": {
    "_cell_guid": "27dad8e2-8170-4987-b388-fc4307580261",
    "_uuid": "3663db9be4c4fcb3bca00d2ef0b638987b09571b"
   },
   "outputs": [
    {
     "name": "stdout",
     "output_type": "stream",
     "text": [
      "When I predict randomly for 100 times, each time against the whole test set, the accuracy could hit 0.6313\n"
     ]
    }
   ],
   "source": [
    "# If I predict randomly:\n",
    "predictRandomAccuracy = 0.\n",
    "howMany = 100\n",
    "for n in range(howMany):\n",
    "    predict_random = [np.random.randint(0,2) for i in range(len(y_test))]\n",
    "    accu = accuracy_score(y_test, predict_random)\n",
    "    if accu > predictRandomAccuracy: predictRandomAccuracy = accu \n",
    "print(\"When I predict randomly for 100 times, each time against the whole test set, \" +\n",
    "      \"the accuracy could hit {:.4f}\".format(predictRandomAccuracy))        "
   ]
  },
  {
   "cell_type": "markdown",
   "metadata": {},
   "source": [
    "This random prediction model performance could be another benchmark for my model."
   ]
  },
  {
   "cell_type": "code",
   "execution_count": 7,
   "metadata": {
    "_cell_guid": "a555d327-38d6-4209-a523-33f0b6e0992c",
    "_uuid": "5b15db4c5987c343947bc1c5d96cd3ed9e9a25f2"
   },
   "outputs": [],
   "source": [
    "# Some data clean up\n",
    "# Find columns that have NaN\n",
    "# missingCount = {}\n",
    "# X_train_count = len(X_train)\n",
    "# for m in X_train.columns:\n",
    "#     sumOfNull = np.sum(X_train[m].isnull().values)\n",
    "#     if sumOfNull > 0:\n",
    "#         missingCount[m] = sumOfNull\n",
    "# missingCount\n",
    "\n",
    "### NaN count: {'Age': 149, 'Cabin': 550, 'Embarked': 2}"
   ]
  },
  {
   "cell_type": "markdown",
   "metadata": {},
   "source": [
    "###### Cabin"
   ]
  },
  {
   "cell_type": "code",
   "execution_count": 8,
   "metadata": {
    "_cell_guid": "ba8b6265-bc68-458f-98bc-c761d9dc770f",
    "_uuid": "b7309b5665e8d9fbc6fc7747216b6fa150c2fad2"
   },
   "outputs": [],
   "source": [
    "### Another way to know the NaN count is from X_train.info(). \n",
    "### we know that Cabin has 550 unusable values out of 712. Drop this in place.\n",
    "X_train_good = X_train.drop('Cabin',axis=1, inplace=False )"
   ]
  },
  {
   "cell_type": "code",
   "execution_count": 9,
   "metadata": {
    "_cell_guid": "f41e7159-978f-47d2-9c7c-6c8b08d0a885",
    "_uuid": "8b1318c823b90df819b5b4e706a250bc31760dd9"
   },
   "outputs": [
    {
     "name": "stdout",
     "output_type": "stream",
     "text": [
      "<class 'pandas.core.frame.DataFrame'>\n",
      "Int64Index: 712 entries, 279 to 734\n",
      "Data columns (total 10 columns):\n",
      "PassengerId    712 non-null int64\n",
      "Pclass         712 non-null int64\n",
      "Name           712 non-null object\n",
      "Sex            712 non-null object\n",
      "Age            563 non-null float64\n",
      "SibSp          712 non-null int64\n",
      "Parch          712 non-null int64\n",
      "Ticket         712 non-null object\n",
      "Fare           712 non-null float64\n",
      "Embarked       710 non-null object\n",
      "dtypes: float64(2), int64(4), object(4)\n",
      "memory usage: 61.2+ KB\n"
     ]
    }
   ],
   "source": [
    "X_train_good.info()"
   ]
  },
  {
   "cell_type": "markdown",
   "metadata": {},
   "source": [
    "Column Cabin is dropped. The improved training set is X_train_good."
   ]
  },
  {
   "cell_type": "markdown",
   "metadata": {},
   "source": [
    "###### Embarked"
   ]
  },
  {
   "cell_type": "code",
   "execution_count": 10,
   "metadata": {
    "_uuid": "e499c4961637919c254ef38253e596965e8094f6"
   },
   "outputs": [
    {
     "data": {
      "text/plain": [
       "Counter({'Q': 66, nan: 2, 'S': 512, 'C': 132})"
      ]
     },
     "execution_count": 10,
     "metadata": {},
     "output_type": "execute_result"
    },
    {
     "data": {
      "text/html": [
       "<div>\n",
       "<style scoped>\n",
       "    .dataframe tbody tr th:only-of-type {\n",
       "        vertical-align: middle;\n",
       "    }\n",
       "\n",
       "    .dataframe tbody tr th {\n",
       "        vertical-align: top;\n",
       "    }\n",
       "\n",
       "    .dataframe thead th {\n",
       "        text-align: right;\n",
       "    }\n",
       "</style>\n",
       "<table border=\"1\" class=\"dataframe\">\n",
       "  <thead>\n",
       "    <tr style=\"text-align: right;\">\n",
       "      <th></th>\n",
       "      <th>PassengerId</th>\n",
       "      <th>Pclass</th>\n",
       "      <th>Name</th>\n",
       "      <th>Sex</th>\n",
       "      <th>Age</th>\n",
       "      <th>SibSp</th>\n",
       "      <th>Parch</th>\n",
       "      <th>Ticket</th>\n",
       "      <th>Fare</th>\n",
       "      <th>Cabin</th>\n",
       "      <th>Embarked</th>\n",
       "    </tr>\n",
       "  </thead>\n",
       "  <tbody>\n",
       "    <tr>\n",
       "      <th>829</th>\n",
       "      <td>830</td>\n",
       "      <td>1</td>\n",
       "      <td>Stone, Mrs. George Nelson (Martha Evelyn)</td>\n",
       "      <td>female</td>\n",
       "      <td>62.0</td>\n",
       "      <td>0</td>\n",
       "      <td>0</td>\n",
       "      <td>113572</td>\n",
       "      <td>80.0</td>\n",
       "      <td>B28</td>\n",
       "      <td>NaN</td>\n",
       "    </tr>\n",
       "    <tr>\n",
       "      <th>61</th>\n",
       "      <td>62</td>\n",
       "      <td>1</td>\n",
       "      <td>Icard, Miss. Amelie</td>\n",
       "      <td>female</td>\n",
       "      <td>38.0</td>\n",
       "      <td>0</td>\n",
       "      <td>0</td>\n",
       "      <td>113572</td>\n",
       "      <td>80.0</td>\n",
       "      <td>B28</td>\n",
       "      <td>NaN</td>\n",
       "    </tr>\n",
       "  </tbody>\n",
       "</table>\n",
       "</div>"
      ],
      "text/plain": [
       "     PassengerId  Pclass                                       Name     Sex  \\\n",
       "829          830       1  Stone, Mrs. George Nelson (Martha Evelyn)  female   \n",
       "61            62       1                        Icard, Miss. Amelie  female   \n",
       "\n",
       "      Age  SibSp  Parch  Ticket  Fare Cabin Embarked  \n",
       "829  62.0      0      0  113572  80.0   B28      NaN  \n",
       "61   38.0      0      0  113572  80.0   B28      NaN  "
      ]
     },
     "execution_count": 10,
     "metadata": {},
     "output_type": "execute_result"
    }
   ],
   "source": [
    "# Let's tackle Embarked null values\n",
    "Counter(X_train['Embarked'].values)\n",
    "\n",
    "# Find out the 2 rows \n",
    "X_train[X_train['Embarked'].isnull().values]\n",
    "\n",
    "\n",
    "# embarked_survived = pd.DataFrame(X_train['Embarked'])\n",
    "# embarked_survived['Survived'] = y_train\n",
    "# sns.countplot(x='Embarked',data=embarked_survived, hue='Survived')"
   ]
  },
  {
   "cell_type": "code",
   "execution_count": 11,
   "metadata": {},
   "outputs": [
    {
     "data": {
      "text/html": [
       "<div>\n",
       "<style scoped>\n",
       "    .dataframe tbody tr th:only-of-type {\n",
       "        vertical-align: middle;\n",
       "    }\n",
       "\n",
       "    .dataframe tbody tr th {\n",
       "        vertical-align: top;\n",
       "    }\n",
       "\n",
       "    .dataframe thead th {\n",
       "        text-align: right;\n",
       "    }\n",
       "</style>\n",
       "<table border=\"1\" class=\"dataframe\">\n",
       "  <thead>\n",
       "    <tr style=\"text-align: right;\">\n",
       "      <th></th>\n",
       "      <th>Ticket</th>\n",
       "      <th>Embarked</th>\n",
       "    </tr>\n",
       "  </thead>\n",
       "  <tbody>\n",
       "    <tr>\n",
       "      <th>54</th>\n",
       "      <td>113509</td>\n",
       "      <td>C</td>\n",
       "    </tr>\n",
       "    <tr>\n",
       "      <th>724</th>\n",
       "      <td>113806</td>\n",
       "      <td>S</td>\n",
       "    </tr>\n",
       "    <tr>\n",
       "      <th>270</th>\n",
       "      <td>113798</td>\n",
       "      <td>S</td>\n",
       "    </tr>\n",
       "    <tr>\n",
       "      <th>602</th>\n",
       "      <td>113796</td>\n",
       "      <td>S</td>\n",
       "    </tr>\n",
       "    <tr>\n",
       "      <th>694</th>\n",
       "      <td>113800</td>\n",
       "      <td>S</td>\n",
       "    </tr>\n",
       "    <tr>\n",
       "      <th>305</th>\n",
       "      <td>113781</td>\n",
       "      <td>S</td>\n",
       "    </tr>\n",
       "    <tr>\n",
       "      <th>498</th>\n",
       "      <td>113781</td>\n",
       "      <td>S</td>\n",
       "    </tr>\n",
       "    <tr>\n",
       "      <th>842</th>\n",
       "      <td>113798</td>\n",
       "      <td>C</td>\n",
       "    </tr>\n",
       "    <tr>\n",
       "      <th>449</th>\n",
       "      <td>113786</td>\n",
       "      <td>S</td>\n",
       "    </tr>\n",
       "    <tr>\n",
       "      <th>447</th>\n",
       "      <td>113794</td>\n",
       "      <td>S</td>\n",
       "    </tr>\n",
       "    <tr>\n",
       "      <th>390</th>\n",
       "      <td>113760</td>\n",
       "      <td>S</td>\n",
       "    </tr>\n",
       "    <tr>\n",
       "      <th>452</th>\n",
       "      <td>113051</td>\n",
       "      <td>C</td>\n",
       "    </tr>\n",
       "    <tr>\n",
       "      <th>467</th>\n",
       "      <td>113792</td>\n",
       "      <td>S</td>\n",
       "    </tr>\n",
       "    <tr>\n",
       "      <th>336</th>\n",
       "      <td>113776</td>\n",
       "      <td>S</td>\n",
       "    </tr>\n",
       "    <tr>\n",
       "      <th>185</th>\n",
       "      <td>113767</td>\n",
       "      <td>S</td>\n",
       "    </tr>\n",
       "    <tr>\n",
       "      <th>23</th>\n",
       "      <td>113788</td>\n",
       "      <td>S</td>\n",
       "    </tr>\n",
       "    <tr>\n",
       "      <th>782</th>\n",
       "      <td>113501</td>\n",
       "      <td>S</td>\n",
       "    </tr>\n",
       "    <tr>\n",
       "      <th>83</th>\n",
       "      <td>113059</td>\n",
       "      <td>S</td>\n",
       "    </tr>\n",
       "    <tr>\n",
       "      <th>555</th>\n",
       "      <td>113807</td>\n",
       "      <td>S</td>\n",
       "    </tr>\n",
       "    <tr>\n",
       "      <th>35</th>\n",
       "      <td>113789</td>\n",
       "      <td>S</td>\n",
       "    </tr>\n",
       "    <tr>\n",
       "      <th>151</th>\n",
       "      <td>113776</td>\n",
       "      <td>S</td>\n",
       "    </tr>\n",
       "    <tr>\n",
       "      <th>857</th>\n",
       "      <td>113055</td>\n",
       "      <td>S</td>\n",
       "    </tr>\n",
       "    <tr>\n",
       "      <th>377</th>\n",
       "      <td>113503</td>\n",
       "      <td>C</td>\n",
       "    </tr>\n",
       "    <tr>\n",
       "      <th>252</th>\n",
       "      <td>113514</td>\n",
       "      <td>S</td>\n",
       "    </tr>\n",
       "    <tr>\n",
       "      <th>137</th>\n",
       "      <td>113803</td>\n",
       "      <td>S</td>\n",
       "    </tr>\n",
       "    <tr>\n",
       "      <th>435</th>\n",
       "      <td>113760</td>\n",
       "      <td>S</td>\n",
       "    </tr>\n",
       "    <tr>\n",
       "      <th>802</th>\n",
       "      <td>113760</td>\n",
       "      <td>S</td>\n",
       "    </tr>\n",
       "    <tr>\n",
       "      <th>492</th>\n",
       "      <td>113787</td>\n",
       "      <td>S</td>\n",
       "    </tr>\n",
       "    <tr>\n",
       "      <th>383</th>\n",
       "      <td>113789</td>\n",
       "      <td>S</td>\n",
       "    </tr>\n",
       "    <tr>\n",
       "      <th>339</th>\n",
       "      <td>113784</td>\n",
       "      <td>S</td>\n",
       "    </tr>\n",
       "    <tr>\n",
       "      <th>607</th>\n",
       "      <td>113804</td>\n",
       "      <td>S</td>\n",
       "    </tr>\n",
       "    <tr>\n",
       "      <th>708</th>\n",
       "      <td>113781</td>\n",
       "      <td>S</td>\n",
       "    </tr>\n",
       "    <tr>\n",
       "      <th>3</th>\n",
       "      <td>113803</td>\n",
       "      <td>S</td>\n",
       "    </tr>\n",
       "    <tr>\n",
       "      <th>829</th>\n",
       "      <td>113572</td>\n",
       "      <td>NaN</td>\n",
       "    </tr>\n",
       "    <tr>\n",
       "      <th>763</th>\n",
       "      <td>113760</td>\n",
       "      <td>S</td>\n",
       "    </tr>\n",
       "    <tr>\n",
       "      <th>536</th>\n",
       "      <td>113050</td>\n",
       "      <td>S</td>\n",
       "    </tr>\n",
       "    <tr>\n",
       "      <th>297</th>\n",
       "      <td>113781</td>\n",
       "      <td>S</td>\n",
       "    </tr>\n",
       "    <tr>\n",
       "      <th>356</th>\n",
       "      <td>113505</td>\n",
       "      <td>S</td>\n",
       "    </tr>\n",
       "    <tr>\n",
       "      <th>61</th>\n",
       "      <td>113572</td>\n",
       "      <td>NaN</td>\n",
       "    </tr>\n",
       "    <tr>\n",
       "      <th>284</th>\n",
       "      <td>113056</td>\n",
       "      <td>S</td>\n",
       "    </tr>\n",
       "    <tr>\n",
       "      <th>331</th>\n",
       "      <td>113043</td>\n",
       "      <td>S</td>\n",
       "    </tr>\n",
       "  </tbody>\n",
       "</table>\n",
       "</div>"
      ],
      "text/plain": [
       "     Ticket Embarked\n",
       "54   113509        C\n",
       "724  113806        S\n",
       "270  113798        S\n",
       "602  113796        S\n",
       "694  113800        S\n",
       "305  113781        S\n",
       "498  113781        S\n",
       "842  113798        C\n",
       "449  113786        S\n",
       "447  113794        S\n",
       "390  113760        S\n",
       "452  113051        C\n",
       "467  113792        S\n",
       "336  113776        S\n",
       "185  113767        S\n",
       "23   113788        S\n",
       "782  113501        S\n",
       "83   113059        S\n",
       "555  113807        S\n",
       "35   113789        S\n",
       "151  113776        S\n",
       "857  113055        S\n",
       "377  113503        C\n",
       "252  113514        S\n",
       "137  113803        S\n",
       "435  113760        S\n",
       "802  113760        S\n",
       "492  113787        S\n",
       "383  113789        S\n",
       "339  113784        S\n",
       "607  113804        S\n",
       "708  113781        S\n",
       "3    113803        S\n",
       "829  113572      NaN\n",
       "763  113760        S\n",
       "536  113050        S\n",
       "297  113781        S\n",
       "356  113505        S\n",
       "61   113572      NaN\n",
       "284  113056        S\n",
       "331  113043        S"
      ]
     },
     "execution_count": 11,
     "metadata": {},
     "output_type": "execute_result"
    }
   ],
   "source": [
    "# Find out ticket similar to 113572 and where they embarked. I assume I could use the value to replace.\n",
    "# import re\n",
    "# def regex_ticket(astring):\n",
    "#     r = re.search( r'^(11\\w{4})$', astring, re.I)\n",
    "#     if r: \n",
    "#         return r.group(1)\n",
    "#     return np.NaN\n",
    "\n",
    "# c = X_train['Ticket'].apply(regex_ticket) # return pandas Series, data that failed regex will get NaN\n",
    "# d = c.dropna()\n",
    "# d.as_matrix()\n",
    "\n",
    "# X_train[X_train['Ticket'].str.startswith('113')]\n",
    "X_train[X_train['Ticket'].str.match(r'^(113\\w{3})$')][['Ticket','Embarked']]"
   ]
  },
  {
   "cell_type": "markdown",
   "metadata": {},
   "source": [
    "It is not conclusive that ticket numbering indicate Embarked port. I will assume S since it is majority for similar numbering."
   ]
  },
  {
   "cell_type": "code",
   "execution_count": 12,
   "metadata": {},
   "outputs": [
    {
     "data": {
      "text/html": [
       "<div>\n",
       "<style scoped>\n",
       "    .dataframe tbody tr th:only-of-type {\n",
       "        vertical-align: middle;\n",
       "    }\n",
       "\n",
       "    .dataframe tbody tr th {\n",
       "        vertical-align: top;\n",
       "    }\n",
       "\n",
       "    .dataframe thead th {\n",
       "        text-align: right;\n",
       "    }\n",
       "</style>\n",
       "<table border=\"1\" class=\"dataframe\">\n",
       "  <thead>\n",
       "    <tr style=\"text-align: right;\">\n",
       "      <th></th>\n",
       "      <th>Embarked</th>\n",
       "    </tr>\n",
       "  </thead>\n",
       "  <tbody>\n",
       "    <tr>\n",
       "      <th>829</th>\n",
       "      <td>S</td>\n",
       "    </tr>\n",
       "    <tr>\n",
       "      <th>61</th>\n",
       "      <td>S</td>\n",
       "    </tr>\n",
       "  </tbody>\n",
       "</table>\n",
       "</div>"
      ],
      "text/plain": [
       "    Embarked\n",
       "829        S\n",
       "61         S"
      ]
     },
     "execution_count": 12,
     "metadata": {},
     "output_type": "execute_result"
    }
   ],
   "source": [
    "X_train_good = X_train_good.fillna({'Embarked':'S'})\n",
    "X_train_good.loc[[829, 61],['Embarked']]"
   ]
  },
  {
   "cell_type": "markdown",
   "metadata": {},
   "source": [
    "###### Ticket"
   ]
  },
  {
   "cell_type": "code",
   "execution_count": 13,
   "metadata": {
    "_cell_guid": "8e6e4436-76ee-4161-903b-e7c2b590bdb3",
    "_uuid": "d938f3715a0c46708404cce3593502b3dac93925",
    "scrolled": false
   },
   "outputs": [
    {
     "data": {
      "text/plain": [
       "564"
      ]
     },
     "execution_count": 13,
     "metadata": {},
     "output_type": "execute_result"
    }
   ],
   "source": [
    "ticket_a = np.unique(X_train['Ticket'].values.tolist())\n",
    "len(np.unique(X_train['Ticket'].values.tolist()))"
   ]
  },
  {
   "cell_type": "markdown",
   "metadata": {
    "_cell_guid": "0c5cb178-72c0-4aee-a4b9-48f7e0751b75",
    "_uuid": "dc398a24de1eb7ea36fa39ed8598263ff8139f32",
    "collapsed": true
   },
   "source": [
    "There are no null values in Ticket and yet there are only 564 unique strings. There are duplicates, and ticket strings seems random. Same ticket string may mean they were companions, which may or may not be family or friends. This companionship may means higher survival chance. <br> \n",
    "I am thinking of making new column Companionship when ticket number are same. But I may have to further investigate if they share same Cabin, which is not useful because of lack of data.\n",
    "So for now, I will droppped this column."
   ]
  },
  {
   "cell_type": "code",
   "execution_count": 14,
   "metadata": {},
   "outputs": [],
   "source": [
    "# X_train_good = X_train.drop('Ticket',axis=1, inplace=False )\n",
    "# Another way\n",
    "del X_train_good['Ticket']\n"
   ]
  },
  {
   "cell_type": "code",
   "execution_count": 15,
   "metadata": {},
   "outputs": [
    {
     "name": "stdout",
     "output_type": "stream",
     "text": [
      "<class 'pandas.core.frame.DataFrame'>\n",
      "Int64Index: 712 entries, 279 to 734\n",
      "Data columns (total 9 columns):\n",
      "PassengerId    712 non-null int64\n",
      "Pclass         712 non-null int64\n",
      "Name           712 non-null object\n",
      "Sex            712 non-null object\n",
      "Age            563 non-null float64\n",
      "SibSp          712 non-null int64\n",
      "Parch          712 non-null int64\n",
      "Fare           712 non-null float64\n",
      "Embarked       712 non-null object\n",
      "dtypes: float64(2), int64(4), object(3)\n",
      "memory usage: 75.6+ KB\n"
     ]
    }
   ],
   "source": [
    "X_train_good.info()"
   ]
  },
  {
   "cell_type": "markdown",
   "metadata": {},
   "source": [
    "###### Names"
   ]
  },
  {
   "cell_type": "code",
   "execution_count": 67,
   "metadata": {},
   "outputs": [
    {
     "name": "stdout",
     "output_type": "stream",
     "text": [
      "<class 'pandas.core.frame.DataFrame'>\n",
      "Int64Index: 712 entries, 279 to 734\n",
      "Data columns (total 10 columns):\n",
      "PassengerId    712 non-null int64\n",
      "Pclass         712 non-null int64\n",
      "Name           712 non-null object\n",
      "Sex            712 non-null object\n",
      "Age            563 non-null float64\n",
      "SibSp          712 non-null int64\n",
      "Parch          712 non-null int64\n",
      "Fare           712 non-null float64\n",
      "Embarked       712 non-null object\n",
      "Title          712 non-null object\n",
      "dtypes: float64(2), int64(4), object(4)\n",
      "memory usage: 81.2+ KB\n"
     ]
    }
   ],
   "source": [
    "# name_df = pd.DataFrame(X_train[X_train['Age'].isnull()]['Name'])\n",
    "# name_df = pd.DataFrame(X_train['Name'])\n",
    "# name_df.info()\n",
    "# name_array = name_df['Name'].values\n",
    "X_train_good['Title'] = [np.nan]*len(X_train_good)\n",
    "# X_train_good.info()\n",
    "name_regex = r'.*(Mrs)|(Mr)|(Dr)|(Miss)|(Master)|(Col)|(Rev)|(Major)|(Ms)|(Capt)|(Countess)|(Mme).*'\n",
    "import re\n",
    "# for n in name_array:\n",
    "#     r = re.search(name_regex, n, re.I)\n",
    "#     if r: \n",
    "#         if r.group(1): \n",
    "#     else:\n",
    "#         print(n)\n",
    "\n",
    "# def copy_2title():\n",
    "\n",
    "\n",
    "def repl_w_title(a,regex=name_regex):\n",
    "    import re\n",
    "    r = re.search(regex, a, re.I)\n",
    "    if r:\n",
    "        if r.group(1): return \"Mrs\"\n",
    "        if r.group(2): return \"Mr\"\n",
    "        if r.group(3): return \"Dr\"\n",
    "        if r.group(4): return \"Miss\"\n",
    "        if r.group(5): return \"Master\"\n",
    "        if r.group(6): return \"Col\"\n",
    "        if r.group(7): return \"Rev\"\n",
    "        if r.group(8): return \"Major\"\n",
    "        if r.group(9): return \"Ms\"\n",
    "        if r.group(10): return \"Capt\"\n",
    "        if r.group(11): return \"Countess\"\n",
    "        if r.group(12): return \"Mme\"\n",
    "    else:\n",
    "        return a\n",
    "\n",
    "# X_train_good[X_train_good['Name'].str.match(name_regex)]['Name'] #.apply(copy_2title)\n",
    "X_train_good['Title'] = X_train_good['Name'].apply(repl_w_title,regex=name_regex)\n",
    "\n",
    "X_train_good.info()"
   ]
  },
  {
   "cell_type": "markdown",
   "metadata": {},
   "source": [
    "###### Age"
   ]
  },
  {
   "cell_type": "code",
   "execution_count": 68,
   "metadata": {},
   "outputs": [
    {
     "name": "stdout",
     "output_type": "stream",
     "text": [
      "<class 'pandas.core.frame.DataFrame'>\n",
      "Int64Index: 712 entries, 279 to 734\n",
      "Data columns (total 8 columns):\n",
      "Pclass      712 non-null int64\n",
      "Sex         712 non-null object\n",
      "Age         563 non-null float64\n",
      "SibSp       712 non-null int64\n",
      "Parch       712 non-null int64\n",
      "Fare        712 non-null float64\n",
      "Embarked    712 non-null object\n",
      "Title       712 non-null object\n",
      "dtypes: float64(2), int64(3), object(3)\n",
      "memory usage: 70.1+ KB\n"
     ]
    }
   ],
   "source": [
    "# use randomforest regressor to fill age\n",
    "agedf = X_train_good.iloc[:,[1,3,4,5,6,7,8,9]]\n",
    "agedf.info()\n",
    "# age_x_train = X_train[X_train['Age']]"
   ]
  },
  {
   "cell_type": "code",
   "execution_count": 85,
   "metadata": {},
   "outputs": [
    {
     "name": "stdout",
     "output_type": "stream",
     "text": [
      "<class 'pandas.core.frame.DataFrame'>\n",
      "Int64Index: 563 entries, 279 to 734\n",
      "Data columns (total 7 columns):\n",
      "Pclass      563 non-null int64\n",
      "Sex         563 non-null object\n",
      "SibSp       563 non-null int64\n",
      "Parch       563 non-null int64\n",
      "Fare        563 non-null float64\n",
      "Embarked    563 non-null object\n",
      "Title       563 non-null object\n",
      "dtypes: float64(1), int64(3), object(3)\n",
      "memory usage: 35.2+ KB\n"
     ]
    },
    {
     "data": {
      "text/html": [
       "<div>\n",
       "<style scoped>\n",
       "    .dataframe tbody tr th:only-of-type {\n",
       "        vertical-align: middle;\n",
       "    }\n",
       "\n",
       "    .dataframe tbody tr th {\n",
       "        vertical-align: top;\n",
       "    }\n",
       "\n",
       "    .dataframe thead th {\n",
       "        text-align: right;\n",
       "    }\n",
       "</style>\n",
       "<table border=\"1\" class=\"dataframe\">\n",
       "  <thead>\n",
       "    <tr style=\"text-align: right;\">\n",
       "      <th></th>\n",
       "      <th>Pclass</th>\n",
       "      <th>Sex</th>\n",
       "      <th>SibSp</th>\n",
       "      <th>Parch</th>\n",
       "      <th>Fare</th>\n",
       "      <th>Embarked</th>\n",
       "      <th>Title</th>\n",
       "    </tr>\n",
       "  </thead>\n",
       "  <tbody>\n",
       "    <tr>\n",
       "      <th>279</th>\n",
       "      <td>3</td>\n",
       "      <td>female</td>\n",
       "      <td>1</td>\n",
       "      <td>1</td>\n",
       "      <td>20.2500</td>\n",
       "      <td>S</td>\n",
       "      <td>Mrs</td>\n",
       "    </tr>\n",
       "    <tr>\n",
       "      <th>418</th>\n",
       "      <td>2</td>\n",
       "      <td>male</td>\n",
       "      <td>0</td>\n",
       "      <td>0</td>\n",
       "      <td>13.0000</td>\n",
       "      <td>S</td>\n",
       "      <td>Mr</td>\n",
       "    </tr>\n",
       "    <tr>\n",
       "      <th>362</th>\n",
       "      <td>3</td>\n",
       "      <td>female</td>\n",
       "      <td>0</td>\n",
       "      <td>1</td>\n",
       "      <td>14.4542</td>\n",
       "      <td>C</td>\n",
       "      <td>Mrs</td>\n",
       "    </tr>\n",
       "  </tbody>\n",
       "</table>\n",
       "</div>"
      ],
      "text/plain": [
       "     Pclass     Sex  SibSp  Parch     Fare Embarked Title\n",
       "279       3  female      1      1  20.2500        S   Mrs\n",
       "418       2    male      0      0  13.0000        S    Mr\n",
       "362       3  female      0      1  14.4542        C   Mrs"
      ]
     },
     "execution_count": 85,
     "metadata": {},
     "output_type": "execute_result"
    },
    {
     "data": {
      "text/plain": [
       "279    35.0\n",
       "418    30.0\n",
       "362    45.0\n",
       "Name: Age, dtype: float64"
      ]
     },
     "execution_count": 85,
     "metadata": {},
     "output_type": "execute_result"
    }
   ],
   "source": [
    "agedf_train = agedf[agedf['Age'].notnull()]\n",
    "# agedf_train.info()\n",
    "agedf_train_X = agedf_train.drop(columns='Age')\n",
    "agedf_train_y = agedf_train['Age']\n",
    "agedf_train_X.info()\n",
    "agedf_train_X.head(3)\n",
    "agedf_train_y.head(3)"
   ]
  },
  {
   "cell_type": "code",
   "execution_count": 82,
   "metadata": {},
   "outputs": [],
   "source": [
    "from sklearn.metrics import r2_score\n",
    "\n",
    "def performance_metric(y_true, y_predict):\n",
    "    \"\"\" Calculates and returns the performance score between \n",
    "        true and predicted values based on the metric chosen. \"\"\"\n",
    "    \n",
    "    # TODO: Calculate the performance score between 'y_true' and 'y_predict'\n",
    "    score = r2_score(y_true, y_predict)\n",
    "    \n",
    "    # Return the score\n",
    "    return score"
   ]
  },
  {
   "cell_type": "code",
   "execution_count": 90,
   "metadata": {},
   "outputs": [
    {
     "data": {
      "text/html": [
       "<div>\n",
       "<style scoped>\n",
       "    .dataframe tbody tr th:only-of-type {\n",
       "        vertical-align: middle;\n",
       "    }\n",
       "\n",
       "    .dataframe tbody tr th {\n",
       "        vertical-align: top;\n",
       "    }\n",
       "\n",
       "    .dataframe thead th {\n",
       "        text-align: right;\n",
       "    }\n",
       "</style>\n",
       "<table border=\"1\" class=\"dataframe\">\n",
       "  <thead>\n",
       "    <tr style=\"text-align: right;\">\n",
       "      <th></th>\n",
       "      <th>Pclass</th>\n",
       "      <th>Sex</th>\n",
       "      <th>SibSp</th>\n",
       "      <th>Parch</th>\n",
       "      <th>Fare</th>\n",
       "      <th>Embarked</th>\n",
       "      <th>Title</th>\n",
       "    </tr>\n",
       "  </thead>\n",
       "  <tbody>\n",
       "    <tr>\n",
       "      <th>279</th>\n",
       "      <td>2</td>\n",
       "      <td>0</td>\n",
       "      <td>1</td>\n",
       "      <td>1</td>\n",
       "      <td>89</td>\n",
       "      <td>2</td>\n",
       "      <td>9</td>\n",
       "    </tr>\n",
       "    <tr>\n",
       "      <th>418</th>\n",
       "      <td>1</td>\n",
       "      <td>1</td>\n",
       "      <td>0</td>\n",
       "      <td>0</td>\n",
       "      <td>63</td>\n",
       "      <td>2</td>\n",
       "      <td>8</td>\n",
       "    </tr>\n",
       "    <tr>\n",
       "      <th>362</th>\n",
       "      <td>2</td>\n",
       "      <td>0</td>\n",
       "      <td>0</td>\n",
       "      <td>1</td>\n",
       "      <td>69</td>\n",
       "      <td>0</td>\n",
       "      <td>9</td>\n",
       "    </tr>\n",
       "    <tr>\n",
       "      <th>655</th>\n",
       "      <td>1</td>\n",
       "      <td>1</td>\n",
       "      <td>2</td>\n",
       "      <td>0</td>\n",
       "      <td>160</td>\n",
       "      <td>2</td>\n",
       "      <td>8</td>\n",
       "    </tr>\n",
       "    <tr>\n",
       "      <th>363</th>\n",
       "      <td>2</td>\n",
       "      <td>1</td>\n",
       "      <td>0</td>\n",
       "      <td>0</td>\n",
       "      <td>7</td>\n",
       "      <td>2</td>\n",
       "      <td>8</td>\n",
       "    </tr>\n",
       "  </tbody>\n",
       "</table>\n",
       "</div>"
      ],
      "text/plain": [
       "     Pclass  Sex  SibSp  Parch  Fare  Embarked  Title\n",
       "279       2    0      1      1    89         2      9\n",
       "418       1    1      0      0    63         2      8\n",
       "362       2    0      0      1    69         0      9\n",
       "655       1    1      2      0   160         2      8\n",
       "363       2    1      0      0     7         2      8"
      ]
     },
     "execution_count": 90,
     "metadata": {},
     "output_type": "execute_result"
    }
   ],
   "source": [
    "from sklearn import preprocessing\n",
    "\n",
    "# 1. INSTANTIATE\n",
    "# encode labels with value between 0 and n_classes-1.\n",
    "le = preprocessing.LabelEncoder()\n",
    "agedf_train_X_2 = agedf_train_X.apply(le.fit_transform)\n",
    "agedf_train_X_2.head(5)"
   ]
  },
  {
   "cell_type": "code",
   "execution_count": 98,
   "metadata": {},
   "outputs": [
    {
     "data": {
      "text/plain": [
       "DecisionTreeRegressor(criterion='mse', max_depth=4, max_features=None,\n",
       "           max_leaf_nodes=None, min_impurity_decrease=0.0,\n",
       "           min_impurity_split=None, min_samples_leaf=1,\n",
       "           min_samples_split=2, min_weight_fraction_leaf=0.0,\n",
       "           presort=False, random_state=None, splitter='best')"
      ]
     },
     "execution_count": 98,
     "metadata": {},
     "output_type": "execute_result"
    }
   ],
   "source": [
    "from sklearn.tree import DecisionTreeRegressor\n",
    "from sklearn.model_selection import ShuffleSplit, GridSearchCV\n",
    "from sklearn.metrics.scorer import make_scorer\n",
    "\n",
    "DTregressor = DecisionTreeRegressor()\n",
    "cvSets = ShuffleSplit(n_splits=4, test_size=.2, random_state=0)\n",
    "params = {'max_depth': range(1,5)}\n",
    "scoring = make_scorer(performance_metric)\n",
    "gscv = GridSearchCV(estimator=DTregressor,cv=cvSets,param_grid=params,scoring=scoring)\n",
    "gscv = gscv.fit(agedf_train_X_2, agedf_train_y)\n",
    "\n",
    "gscv.best_estimator_\n",
    "\n",
    "\n",
    "\n",
    "\n",
    "# from sklearn.cross_validation import train_test_split\n",
    "# ageX_train, ageX_test, agey_train, agey_test = train_test_split(agedf_train_X_2, agedf_train_y, test_size = 0.2, random_state = 10)\n",
    "# DTregressor.fit(ageX_train,agey_train)\n",
    "# age_score = DTregressor.score(ageX_test,agey_test)\n",
    "# age_score"
   ]
  },
  {
   "cell_type": "code",
   "execution_count": 99,
   "metadata": {},
   "outputs": [
    {
     "name": "stdout",
     "output_type": "stream",
     "text": [
      "<class 'pandas.core.frame.DataFrame'>\n",
      "Int64Index: 149 entries, 464 to 589\n",
      "Data columns (total 7 columns):\n",
      "Pclass      149 non-null int64\n",
      "Sex         149 non-null object\n",
      "SibSp       149 non-null int64\n",
      "Parch       149 non-null int64\n",
      "Fare        149 non-null float64\n",
      "Embarked    149 non-null object\n",
      "Title       149 non-null object\n",
      "dtypes: float64(1), int64(3), object(3)\n",
      "memory usage: 9.3+ KB\n"
     ]
    },
    {
     "data": {
      "text/plain": [
       "array([ 23.72580645,  42.6       ,  23.72580645,  23.72580645,\n",
       "        23.72580645,  23.72580645,  23.72580645,  23.72580645,\n",
       "         7.31363636,  23.72580645,  23.72580645,  23.72580645,\n",
       "        42.6       ,  23.72580645,  18.11111111,  42.6       ,\n",
       "        23.72580645,  23.72580645,  23.72580645,  23.72580645,\n",
       "        42.6       ,  23.72580645,  23.72580645,  23.72580645,\n",
       "        23.72580645,  18.11111111,  23.72580645,  23.72580645,\n",
       "        42.6       ,  23.72580645,  23.72580645,  23.72580645,\n",
       "        23.72580645,  23.72580645,  23.72580645,  42.6       ,\n",
       "        23.72580645,  23.72580645,  23.72580645,  23.72580645,\n",
       "        42.6       ,  23.72580645,  42.6       ,  42.6       ,\n",
       "        42.6       ,  23.72580645,   7.31363636,  42.6       ,\n",
       "        42.6       ,   7.31363636,  23.72580645,  23.72580645,\n",
       "        23.72580645,  23.72580645,  23.72580645,   7.31363636,\n",
       "        42.6       ,  23.72580645,  23.72580645,  23.72580645,\n",
       "        23.72580645,  23.72580645,  23.72580645,  23.72580645,\n",
       "        42.6       ,  23.72580645,  23.72580645,  23.72580645,\n",
       "        23.72580645,  23.72580645,  23.72580645,  23.72580645,\n",
       "        42.6       ,   7.31363636,  23.72580645,  23.72580645,\n",
       "        23.72580645,  23.72580645,  23.72580645,  23.72580645,\n",
       "        18.11111111,  23.72580645,  23.72580645,  23.72580645,\n",
       "        42.6       ,   7.31363636,  23.72580645,  42.6       ,\n",
       "        23.72580645,  42.6       ,  23.72580645,   7.31363636,\n",
       "        23.72580645,  23.72580645,  42.6       ,   7.31363636,\n",
       "        23.72580645,   7.31363636,  42.6       ,  42.6       ,\n",
       "         7.31363636,  23.72580645,  23.72580645,  23.72580645,\n",
       "         7.31363636,  23.72580645,  23.72580645,  23.72580645,\n",
       "        23.72580645,  23.72580645,  23.72580645,  42.6       ,\n",
       "        23.72580645,  23.72580645,   7.31363636,  23.72580645,\n",
       "        42.6       ,  23.72580645,  42.6       ,  23.72580645,\n",
       "        23.72580645,  23.72580645,  42.6       ,  23.72580645,\n",
       "        42.6       ,  42.6       ,  42.6       ,  23.72580645,\n",
       "        42.6       ,  23.72580645,  23.72580645,  23.72580645,\n",
       "        23.72580645,   7.31363636,  42.6       ,  23.72580645,\n",
       "        23.72580645,  32.28378378,   7.31363636,  23.72580645,\n",
       "        23.72580645,  23.72580645,  42.6       ,  23.72580645,\n",
       "        23.72580645,  42.6       ,  42.6       ,  23.72580645,  23.72580645])"
      ]
     },
     "execution_count": 99,
     "metadata": {},
     "output_type": "execute_result"
    }
   ],
   "source": [
    "agedf_2predict = agedf[agedf['Age'].isnull()]\n",
    "agedf_2predict_X = agedf_2predict.drop(columns='Age')\n",
    "agedf_2predict_X.info()\n",
    "\n",
    "\n",
    "\n",
    "\n",
    "agedf_2predict_X_2 = agedf_2predict_X.apply(le.fit_transform)\n",
    "agedf_2predict_y = gscv.predict(agedf_2predict_X_2)\n",
    "agedf_2predict_y"
   ]
  },
  {
   "cell_type": "code",
   "execution_count": null,
   "metadata": {},
   "outputs": [],
   "source": []
  }
 ],
 "metadata": {
  "kernelspec": {
   "display_name": "Python 3",
   "language": "python",
   "name": "python3"
  },
  "language_info": {
   "codemirror_mode": {
    "name": "ipython",
    "version": 3
   },
   "file_extension": ".py",
   "mimetype": "text/x-python",
   "name": "python",
   "nbconvert_exporter": "python",
   "pygments_lexer": "ipython3",
   "version": "3.5.4"
  }
 },
 "nbformat": 4,
 "nbformat_minor": 1
}
